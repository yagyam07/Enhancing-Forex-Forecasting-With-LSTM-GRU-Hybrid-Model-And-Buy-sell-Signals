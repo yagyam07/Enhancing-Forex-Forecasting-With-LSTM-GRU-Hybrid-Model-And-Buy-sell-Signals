{
 "cells": [
  {
   "cell_type": "code",
   "execution_count": 5,
   "metadata": {},
   "outputs": [],
   "source": [
    "import plotly.graph_objects as go\n",
    "from plotly.subplots import make_subplots\n",
    "import pandas as pd\n",
    "\n",
    "# Load forex dataset\n",
    "file_path = '/Users/krishnakarthik/Downloads/1H(2019-2024).csv'\n",
    "data = pd.read_csv(file_path)\n",
    "\n",
    "# Convert timestamp column to datetime format\n",
    "data['Timestamp'] = pd.to_datetime(data['Gmt time'], format='%d.%m.%Y %H:%M:%S.%f')\n",
    "\n",
    "# Downsample data\n",
    "data_downsampled = data.resample('1D', on='Timestamp').agg({\n",
    "    'Open': 'first',\n",
    "    'High': 'max',\n",
    "    'Low': 'min',\n",
    "    'Close': 'last',\n",
    "})\n",
    "\n",
    "# Create candlestick trace\n",
    "candlestick = go.Candlestick(x=data_downsampled.index,\n",
    "                             open=data_downsampled['Open'],\n",
    "                             high=data_downsampled['High'],\n",
    "                             low=data_downsampled['Low'],\n",
    "                             close=data_downsampled['Close'],\n",
    "                             name='Candlestick')\n",
    "\n",
    "# Create layout\n",
    "layout = go.Layout(title='Forex Candlestick Chart',\n",
    "                   xaxis=dict(title='Date'),\n",
    "                   yaxis=dict(title='Price'),\n",
    "                   height=600,\n",
    "                   xaxis_rangeslider_visible=True)\n",
    "\n",
    "# Create subplot with WebGL renderer\n",
    "fig = make_subplots(rows=1, cols=1, specs=[[{'type': 'candlestick', 'rowspan': 1}]])\n",
    "fig.add_trace(candlestick)\n",
    "\n",
    "# Show plot\n",
    "fig.update_layout(layout)\n",
    "fig.show(renderer=\"browser\")\n"
   ]
  }
 ],
 "metadata": {
  "kernelspec": {
   "display_name": "Python 3",
   "language": "python",
   "name": "python3"
  },
  "language_info": {
   "codemirror_mode": {
    "name": "ipython",
    "version": 3
   },
   "file_extension": ".py",
   "mimetype": "text/x-python",
   "name": "python",
   "nbconvert_exporter": "python",
   "pygments_lexer": "ipython3",
   "version": "3.9.6"
  }
 },
 "nbformat": 4,
 "nbformat_minor": 2
}
